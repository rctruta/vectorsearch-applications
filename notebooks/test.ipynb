{
 "cells": [
  {
   "cell_type": "code",
   "execution_count": 1,
   "metadata": {},
   "outputs": [
    {
     "name": "stdout",
     "output_type": "stream",
     "text": [
      "Years since 1974 when Memorial Day falls on May 27th:\n",
      "[1974, 1985, 1991, 1996, 2002, 2013, 2019, 2024]\n"
     ]
    }
   ],
   "source": [
    "import datetime\n",
    "\n",
    "years_with_memorial_day_on_may_27 = []\n",
    "\n",
    "# Loop through the years from 1974 to the current year\n",
    "for year in range(1974, datetime.datetime.now().year + 1):\n",
    "    # Check if May 27th falls on a Monday\n",
    "    if datetime.date(year, 5, 27).weekday() == 0:\n",
    "        years_with_memorial_day_on_may_27.append(year)\n",
    "\n",
    "print(\"Years since 1974 when Memorial Day falls on May 27th:\")\n",
    "print(years_with_memorial_day_on_may_27)\n"
   ]
  },
  {
   "cell_type": "code",
   "execution_count": 7,
   "metadata": {},
   "outputs": [
    {
     "name": "stdout",
     "output_type": "stream",
     "text": [
      "Requirement already satisfied: Pillow in /Users/ramona/Learning/Uplimit/vectorsearch-applications/ragenv/lib/python3.10/site-packages (10.3.0)\n",
      "\n",
      "\u001b[1m[\u001b[0m\u001b[34;49mnotice\u001b[0m\u001b[1;39;49m]\u001b[0m\u001b[39;49m A new release of pip available: \u001b[0m\u001b[31;49m22.3.1\u001b[0m\u001b[39;49m -> \u001b[0m\u001b[32;49m24.0\u001b[0m\n",
      "\u001b[1m[\u001b[0m\u001b[34;49mnotice\u001b[0m\u001b[1;39;49m]\u001b[0m\u001b[39;49m To update, run: \u001b[0m\u001b[32;49mpip install --upgrade pip\u001b[0m\n",
      "Note: you may need to restart the kernel to use updated packages.\n"
     ]
    }
   ],
   "source": [
    "pip install Pillow"
   ]
  },
  {
   "cell_type": "code",
   "execution_count": 14,
   "metadata": {},
   "outputs": [],
   "source": [
    "from PIL import Image, ImageDraw, ImageFont\n",
    "\n",
    "def create_meme(image_path, text):\n",
    "    # Load the image\n",
    "    image = Image.open(image_path)\n",
    "    \n",
    "    # Choose a font and size for the text\n",
    "    font = ImageFont.truetype('Arial.ttf', size=40)\n",
    "    \n",
    "    # Create a drawing context\n",
    "    draw = ImageDraw.Draw(image)\n",
    "    \n",
    "    # Calculate the width and height of the text to be added\n",
    "    text_width, text_height = draw.textsize(text, font=font)\n",
    "    \n",
    "    # Calculate the position for the text to be centered\n",
    "    x = (image.width - text_width) / 2\n",
    "    y = 10  # 10 pixels from the top\n",
    "    \n",
    "    # Add the text to the image\n",
    "    draw.text((x, y), text, font=font, fill='white')\n",
    "    \n",
    "    # Save the edited image\n",
    "    image.save('meme.png')\n",
    "    \n",
    "    return 'meme.png'\n",
    "\n",
    "# Example usage:\n",
    "# create_meme('path_to_your_image.jpg', 'Your meme text here')\n"
   ]
  },
  {
   "cell_type": "code",
   "execution_count": 17,
   "metadata": {},
   "outputs": [],
   "source": [
    "from PIL import Image, ImageDraw, ImageFont\n",
    "\n",
    "def create_meme(image_path, text):\n",
    "    # Load the image\n",
    "    image = Image.open(image_path)\n",
    "    \n",
    "    # Choose a font and size for the text\n",
    "    font_path = 'arial.ttf'  # Replace with the path to your font file if necessary\n",
    "    font_size = 40\n",
    "    font = ImageFont.truetype(font_path, size=font_size)\n",
    "    \n",
    "    # Create a drawing context\n",
    "    draw = ImageDraw.Draw(image)\n",
    "    \n",
    "    # Define the text position\n",
    "    text_position = (10, 10)  # 10 pixels from the top and left\n",
    "    \n",
    "    # Define the text color\n",
    "    text_color = 'white'\n",
    "    \n",
    "    # Add the text to the image\n",
    "    draw.text(text_position, text, font=font, fill=text_color)\n",
    "    \n",
    "    # Save the edited image\n",
    "    meme_path = 'meme.png'\n",
    "    image.save(meme_path)\n",
    "    \n",
    "    return meme_path\n",
    "\n",
    "# Example usage:\n",
    "# create_meme('path_to_your_image.jpg', 'Your meme text here')\n"
   ]
  },
  {
   "cell_type": "code",
   "execution_count": 12,
   "metadata": {},
   "outputs": [],
   "source": [
    "from PIL import Image, ImageDraw, ImageFont\n",
    "\n",
    "def create_meme(image_path, text, position):\n",
    "    # Open the image\n",
    "    img = Image.open(image_path)\n",
    "    \n",
    "    # Initialize ImageDraw object\n",
    "    draw = ImageDraw.Draw(img)\n",
    "    \n",
    "    # Define font and size\n",
    "    font = ImageFont.truetype(\"rial.ttf\", 50)\n",
    "    \n",
    "    # Get text size\n",
    "    text_width, text_height = draw.textsize(text, font=font)\n",
    "    \n",
    "    # Calculate text position\n",
    "    if position == \"up\":\n",
    "        text_position = (img.width // 2 - text_width // 2, 10)\n",
    "    elif position == \"down\":\n",
    "        text_position = (img.width // 2 - text_width // 2, img.height - text_height - 10)\n",
    "    else:\n",
    "        raise ValueError(\"Position must be 'up' or 'down'\")\n",
    "    \n",
    "    # Add text to image\n",
    "    draw.text(text_position, text, fill=\"white\", font=font)\n",
    "    \n",
    "    # Save the modified image\n",
    "    img.save(\"meme_output.png\")\n",
    "\n",
    "# Example usage:\n",
    "\n"
   ]
  },
  {
   "cell_type": "code",
   "execution_count": 31,
   "metadata": {},
   "outputs": [],
   "source": [
    "from PIL import Image, ImageDraw, ImageFont\n",
    "\n",
    "def create_meme(image_path, text):\n",
    "    # Load the image\n",
    "    image = Image.open(image_path)\n",
    "    \n",
    "    # Choose a font and size for the text\n",
    "    font_path = 'Arial.ttf'  # Replace with the path to your font file if necessary\n",
    "    font_size = 40\n",
    "    font = ImageFont.truetype(font_path, size=font_size)\n",
    "    \n",
    "    # Create a drawing context\n",
    "    draw = ImageDraw.Draw(image)\n",
    "    \n",
    "    # Define the text position\n",
    "    text_position = (200, 30)  # 10 pixels from the top and left\n",
    "    \n",
    "    # Define the text color\n",
    "    text_color = 'white'\n",
    "    \n",
    "    # Add the text to the image\n",
    "    draw.text(text_position, text, font=font, fill=text_color)\n",
    "    \n",
    "    # Save the edited image\n",
    "    meme_path = 'meme.png'\n",
    "    image.save(meme_path)\n",
    "    \n",
    "    image.show()\n",
    "    return meme_path\n",
    "\n"
   ]
  },
  {
   "cell_type": "code",
   "execution_count": 32,
   "metadata": {},
   "outputs": [
    {
     "data": {
      "text/plain": [
       "'meme.png'"
      ]
     },
     "execution_count": 32,
     "metadata": {},
     "output_type": "execute_result"
    }
   ],
   "source": [
    "input_image = \"/Users/ramona/Downloads/Wine-and-Whine.jpeg\"\n",
    "\n",
    "input_text = \"Data Therapy: Wine and Whine!\"\n",
    "\n",
    "create_meme(input_image, input_text)\n"
   ]
  },
  {
   "cell_type": "code",
   "execution_count": null,
   "metadata": {},
   "outputs": [],
   "source": []
  }
 ],
 "metadata": {
  "kernelspec": {
   "display_name": "ragenv",
   "language": "python",
   "name": "python3"
  },
  "language_info": {
   "codemirror_mode": {
    "name": "ipython",
    "version": 3
   },
   "file_extension": ".py",
   "mimetype": "text/x-python",
   "name": "python",
   "nbconvert_exporter": "python",
   "pygments_lexer": "ipython3",
   "version": "3.10.9"
  }
 },
 "nbformat": 4,
 "nbformat_minor": 2
}
